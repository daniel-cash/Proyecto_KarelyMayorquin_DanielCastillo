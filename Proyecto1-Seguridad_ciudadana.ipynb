{
 "cells": [
  {
   "cell_type": "markdown",
   "metadata": {},
   "source": [
    "<img style=\"float: left; margin: 30px 15px 15px 15px;\" src=\"https://pngimage.net/wp-content/uploads/2018/06/logo-iteso-png-5.png\" width=\"300\" height=\"500\" /> \n",
    "    \n",
    "    \n",
    "### <font color='navy'> Simulación de procesos financieros\n",
    "\n",
    "**Nombres:** Daniel Castillo Hernandez (if698367)\n",
    "             Anehi Karely Mayorquin (if707468)\n",
    "\n",
    "**Fecha:** 19 de octubre de 2020\n",
    "    \n",
    "**Profesor:** Oscar David Jaramillo Zuluaga.\n",
    "\n",
    "### PROYECTO"
   ]
  },
  {
   "cell_type": "markdown",
   "metadata": {},
   "source": [
    "<p <div style=\"text-align:center\"><span style=\"; font-family:Calibri Light; font-size:1.8em;\"> Seguridad ciudadana:\n",
    "Diagnóstico y estrategias</span></div> </p>\n",
    "\n",
    "<p style = \"font-family: Calibri Light; font-size:1.2em;color:black;\"> Análisis y simulación de las cifras algunos de los principales delitos en México en los últimos años. Modelado del comportamiento de estas variables para intentar medir la efectividad de las estrategias de seguiridad implementadas hasta ahora y determinar su efecto a lo largo de los años. </p>"
   ]
  },
  {
   "cell_type": "markdown",
   "metadata": {},
   "source": [
    "### Objetivos\n",
    "\n",
    "#### General\n",
    "\n",
    "<p style = \"font-family: Calibri Light; font-size:1.3em;color:black;\"> Proporcionar información útil para la propuesta de nuevas y mejores estrategias de seguridad en el país, a través del análisis y modelado el comportamiento de algunos de los principales delitos en México y con esto intentar medir la efectividad de las estrategias de seguiridad implementadas hasta ahora y determinar su efecto a lo largo de los años.</p>\n",
    "\n",
    "#### Específicos\n",
    "\n",
    "<p style = \"font-family: Calibri Light; font-size:1.3em;color:black;\">\n",
    "    -Analizar las cifras de homicidios, secuestros, feminicidios y robo a casa-habitación en México de 2016 a 2020 con los datos disponibles del Instituto Nacional de Estadística y Geografía.\n",
    "<p style = \"font-family: Calibri Light; font-size:1.3em;color:black;\">\n",
    "    -Comparar y realizar estadística descriptiva para estas variables según años, estados y niveles de gobierno.\n",
    "<p style = \"font-family: Calibri Light; font-size:1.3em;color:black;\">\n",
    "    -Simular estas variables e intentar medir el impacto que han tenido las estrategias de seguridad implementadas en los últimos años.\n",
    "<p style = \"font-family: Calibri Light; font-size:1.3em;color:black;\"> \n",
    "    -Simular estas variables para proyectar su compotamiento en los siguientes años."
   ]
  },
  {
   "cell_type": "markdown",
   "metadata": {},
   "source": [
    "### Definición del problema\n",
    "\n",
    "<p style = \"font-family: Calibri Light; font-size:1.2em;color:black;\">\n",
    "    La crisis de insguridad por la que ha atravesado el país en las últimas décadas se ha presentado como una de las principales y mayores problemáticas en México. Ante el alarmante incremento en las cifras de delitos, distintos niveles de gobierno han planteado estrategias para hacerle frente. El aumento de las penas para algunos delitos y la participación de las fuerzas armadas son algunas de las medidas que se han implementado. Sin embargo, de acuerdo a diversos especialistas y organizaciones de la sociedad civil estas medidas has sido insuficientes e inadecuadas para acabar con la problemática.\n",
    "</p>\n",
    "\n",
    "<p style = \"font-family: Calibri Light; font-size:1.2em;color:black;\"> La inseguridad en el país es considerado como el mayor motivo de preocupación por los habitantes de México y teniendo también algunas de las ciudades consideradas más peligrosas del mundo. Los principales motivos para ello son la delincuencia y el crimen organizado, especialmente el narcotráfico.\n",
    "</p>\n",
    "    \n",
    "<p style = \"font-family: Calibri Light; font-size:1.2em;color:black;\"> La delincuencia organizada y el narcotráfico puede tener un impacto mayor y más corrosivo que los delitos comunes cometidos por particulares, debido a los violentos métodos que utilizan para cumplir sus objetivos y mantener el poder, así como los delitos usados en su operación y actividad cotidiana. Este impacto no solo afecta la vida de individuos, comunidades y sociedades completas, si no que también impacta la economía. Un informe de desarrollo humano de las Naciones Unidas señala que la delincuencia organizada recauda alrededor de 1.6 billones de dólares por año a nivel mundial.\n",
    "</p>"
   ]
  },
  {
   "cell_type": "markdown",
   "metadata": {},
   "source": [
    "### Variables\n",
    "\n",
    "<p style = \"font-family: Calibri Light; font-size:1.2em;color:black;\"> El concepto de seguridad ciudadana es amplio y no solo se refiere a la seguridad primordial de las personas, sino también la de todos los diversos grupos que integran una sociedad. En este sentido la seguridad ciudadana \"implica la salvaguarda eficaz de los derechos humanos inherentes a la persona, especialmente el derecho a la vida, la integridad personal, la inviolabilidad del domicilio y la libertad de movimiento\". </p>\n",
    "\n",
    "<p style = \"font-family: Calibri Light; font-size:1.2em;color:black;\"> \n",
    "Partiendo de este concepto y para abarcar la diversidad de aspectos que implica se decidió tomar los siguientes delitos:\n",
    "\n",
    "<p style = \"font-family: Calibri Light; font-size:1.2em;color:black;\"> \n",
    "-Homicidio: Como máximo indicador de la violación al derecho más fundamental, el derecho a la vida.\n",
    "    </p>\n",
    "<p style = \"font-family: Calibri Light; font-size:1.2em;color:black;\"> \n",
    "-Secuestros: Como indicador de la violación al derecho a la integridad personal y el libre tránsito.\n",
    "    </p>\n",
    "<p style = \"font-family: Calibri Light; font-size:1.2em;color:black;\"> \n",
    "-Robo a casa-habitación: Como indicador de la violación al derecho a la inviolabilidad del domicilio.\n",
    "    </p>\n",
    "<p style = \"font-family: Calibri Light; font-size:1.2em;color:black;\"> \n",
    "-Feminicidio: Como indicador de la violencia y violación al derecho a la vida contra un grupo específico de la sociedad.\n",
    "</p>"
   ]
  },
  {
   "cell_type": "markdown",
   "metadata": {},
   "source": [
    "### Nodos\n",
    "\n",
    "<p style = \"font-family: Calibri Light; font-size:1.2em;color:black;\"> A pesar de los distintos matices que se han presentado en las últimas décadas, la principal estrategia de seguridad que se ha implementado en los diferentes niveles de gobierno es lo que se conoce como militarización. En diciembre de 2006, el gobierno de Felipe Calderón anunció una estrategia de mano dura contra el narcotráfico y el crimen organizado, la cual se plasmó formalmente dentro del Plan Nacional de Desarrollo 2007-2012, el cual planteaba “recuperar la fortaleza del Estado y la seguridad en la convivencia social mediante el combate frontal y eficaz al narcotráfico y otras expresiones del crimen organizado”. Esta decisión llevó al ejército a las calles, pero contradictoriamente esta medida provocó el aumento de homicidios dolosos en un 122% en tan solo cuatro años. Diversos académicos y organizaciones de la sociedad civil han señalado la estrecha relación que hay entre el aumento en los homicidios y la participación de las fuerzas armadas, por lo que afirman que la intervención militar no sólo no es efectiva, sino resulta incluso perjudicial para la seguridad en el país. </p>\n",
    "\n",
    "<p style = \"font-family: Calibri Light; font-size:1.2em;color:black;\"> \n",
    "Tomando en cuenta lo anterior, se pretende simular el comportamiendo de las variables homicidio, secuestro, robo a casa-habitación y feminicidio a 3, 5 y 10 años para los siguientes estrategias y escenarios:\n",
    "</p>\n",
    "\n",
    "\n",
    "<p style = \"font-family: Calibri Light; font-size:1.2em;color:black;\"> \n",
    "-Militarización: Simular las variables siguiendo la misma estrategia de las últimas décadas.\n",
    "    </p>\n",
    "<p style = \"font-family: Calibri Light; font-size:1.2em;color:black;\"> \n",
    "-Sin militarización: Simular las variables no siguiendo la misma estrategia de las últimas décadas.\n",
    "    </p>\n",
    "<p style = \"font-family: Calibri Light; font-size:1.2em;color:black;\"> \n",
    "-Estrategia alternativa: Simular las variables implementando una nueva estrategia de seguridad ciudadana.\n",
    "    </p>"
   ]
  },
  {
   "cell_type": "code",
   "execution_count": null,
   "metadata": {},
   "outputs": [],
   "source": []
  }
 ],
 "metadata": {
  "kernelspec": {
   "display_name": "Python 3",
   "language": "python",
   "name": "python3"
  },
  "language_info": {
   "codemirror_mode": {
    "name": "ipython",
    "version": 3
   },
   "file_extension": ".py",
   "mimetype": "text/x-python",
   "name": "python",
   "nbconvert_exporter": "python",
   "pygments_lexer": "ipython3",
   "version": "3.8.3"
  }
 },
 "nbformat": 4,
 "nbformat_minor": 4
}
